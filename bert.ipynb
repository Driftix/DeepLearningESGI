{
 "cells": [
  {
   "cell_type": "markdown",
   "metadata": {},
   "source": [
    "Subtask_a (celle qui nous intéresse)"
   ]
  },
  {
   "cell_type": "markdown",
   "metadata": {},
   "source": [
    "D'après le Paper2-SemEval2019 le model ayant donné les meilleurs scores a utilisé BERT-base-uncased avec les paramètres par défaut et des phrases d'une taille maximum de 64 et a été entrainé 2x avant les tests.\n"
   ]
  }
 ],
 "metadata": {
  "language_info": {
   "name": "python"
  }
 },
 "nbformat": 4,
 "nbformat_minor": 2
}
